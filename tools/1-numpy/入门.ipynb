{
 "cells": [
  {
   "cell_type": "markdown",
   "metadata": {},
   "source": [
    "# numpy\n",
    "官方文档: [API DOC](https://www.numpy.org.cn/user/setting-up.html)\n",
    "\n",
    "numpy 的核心是 ndarray 对象(同构多维数组)\n",
    "\n",
    "## 基础使用\n",
    "- ndarray 数组上的算术运算符会应用到 元素 级别. ndarray 相乘也不是矩阵乘法, 而是对应元素相乘. 矩阵乘法使用 `@` 或 `dot()` 实现.\n",
    "\n",
    "### 新建\n",
    "ndarray 每次扩建都是新建数组然后删除原数组(c, 扩建需要重新申请内存)\n",
    "\n",
    "## 术语\n",
    "- 同构/异构: 同构指数组内元素都是统一构造函数生成.\n"
   ]
  }
 ],
 "metadata": {
  "kernelspec": {
   "display_name": "Python 3",
   "language": "python",
   "name": "python3"
  },
  "language_info": {
   "codemirror_mode": {
    "name": "ipython",
    "version": 3
   },
   "file_extension": ".py",
   "mimetype": "text/x-python",
   "name": "python",
   "nbconvert_exporter": "python",
   "pygments_lexer": "ipython3",
   "version": "3.8.0"
  }
 },
 "nbformat": 4,
 "nbformat_minor": 4
}
