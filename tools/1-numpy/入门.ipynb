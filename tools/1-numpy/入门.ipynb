{
 "cells": [
  {
   "cell_type": "markdown",
   "metadata": {},
   "source": [
    "# numpy\n",
    "官方文档: [API DOC](https://www.numpy.org.cn/user/setting-up.html)\n",
    "\n",
    "numpy 部分底层是使用 C 写的, 所以运算速度较快."
   ]
  },
  {
   "cell_type": "code",
   "execution_count": 1,
   "metadata": {},
   "outputs": [],
   "source": [
    "import numpy as np"
   ]
  },
  {
   "cell_type": "markdown",
   "metadata": {},
   "source": [
    "## 数组\n",
    "numpy 中数组称之为 ndarray. 由两部分组成\n",
    "1. 数据本身\n",
    "2. 描述数据的元数据\n",
    "\n",
    "numpy 的核心是 ndarray 数组(同构多维数组)\n",
    "- 同构/异构: 同构指数组内元素都是统一构造函数生成, 即类型相同.\n",
    "- 多维: 多个维度, 如 `[1,2,3]` 是一维数组, `[ [1],[2] ]` 是二维数组.\n",
    "\n",
    "ndarray 数组的特点:\n",
    "1. 与 python 原生数组不同, ndarray 是 同构多维数组.\n",
    "    - 如此, numpy在创建数组时就知道数组占用的空间, 使内存分配更加高效.\n",
    "2. numpy 在处理 ndarray 时, 数据本身不变, 但数据的元数据会变化.\n",
    "\n",
    "ndarray 的特性\n",
    "1. 支持 切片/步长"
   ]
  },
  {
   "cell_type": "code",
   "execution_count": 2,
   "metadata": {},
   "outputs": [
    {
     "name": "stdout",
     "output_type": "stream",
     "text": [
      "range(0, 10)\n",
      "[0 1 2 3 4 5 6 7 8 9]\n",
      "[array([0, 1]) array([0, 1, 2])]\n"
     ]
    }
   ],
   "source": [
    "# python原生创建数组的方式\n",
    "print(range(10))\n",
    "# 创建一维 ndarray\n",
    "print(np.arange(10))\n",
    "# 创建多维 ndarray\n",
    "print( np.array( [np.arange(2), np.arange(3)] ) )\n",
    "# 使用 np.random 库创建数组, 后续再讲"
   ]
  },
  {
   "cell_type": "markdown",
   "metadata": {},
   "source": [
    "## 数值类型-dtype\n",
    "`numpy.dtype` 是一种数据类型, 其包含此类型的各种元数据, 如 size, name 等.\n",
    "\n",
    "每个 ndarray 都有 dtype 属性, 该属性返回该 ndarray 中各元素的 数据对象类型.\n",
    "\n",
    "### 数据类型对象\n",
    "数据对象类型即 dtype 类的实例(或者说对象).\n",
    "\n",
    "预定义的各数据数据对象类型如下.\n",
    "\n",
    "| dtype.type         | 说明                      |\n",
    "| :----------------- | :------------------------ |\n",
    "| bool               |                           |\n",
    "| inti               | 随平台自适应 int32/int64    |\n",
    "| int8               |                           |\n",
    "| int16              |                           |\n",
    "| int32              |                           |\n",
    "| int64              |                           |\n",
    "| uint8              |                           |\n",
    "| uint16             |                           |\n",
    "| uint32             |                           |\n",
    "| uint64             |                           |\n",
    "| float16            |                           |\n",
    "| float32            |                           |\n",
    "| float/float64      |                           |\n",
    "| complex64          | 复数, 由两个 float32 表示 |\n",
    "| complex/complex128 | 复数, 由两个 float64 表示 |\n",
    "\n",
    "复数分为实部和虚部, 表示上以 `a.b` 表示, 但是与 int/float 不同, 不可相互转化.\n",
    "\n",
    "###　etc\n",
    "`dtype.char` 返回该类型的字符码."
   ]
  },
  {
   "cell_type": "code",
   "execution_count": 5,
   "metadata": {
    "collapsed": true,
    "jupyter": {
     "outputs_hidden": true,
     "source_hidden": true
    }
   },
   "outputs": [
    {
     "name": "stdout",
     "output_type": "stream",
     "text": [
      "int64\n",
      "8\n"
     ]
    }
   ],
   "source": [
    "a=np.arange(3).dtype\n",
    "print(a)\n",
    "print(a.itemsize)\n",
    "\n",
    "# 所有数据类型的字节码\n",
    "# sctypeDict.keys()"
   ]
  },
  {
   "cell_type": "markdown",
   "metadata": {},
   "source": [
    "## 数组转换"
   ]
  },
  {
   "cell_type": "code",
   "execution_count": 32,
   "metadata": {},
   "outputs": [
    {
     "name": "stdout",
     "output_type": "stream",
     "text": [
      "[[0 1 2 0 1 2]]\n"
     ]
    }
   ],
   "source": [
    "# ravel-拆解: 将多维数组变为一维数组. ravel 返回该数组的视图, 不分配新的内存空间.\n",
    "rav = np.array([np.arange(3),np.arange(3)]).ravel()\n",
    "# ravel().base 查看视图所指向的真实数组. base 会返回该数组真实内存地址上的数据.\n",
    "# rav.base?\n",
    "\n",
    "# flatten-拉直: 与revel相同, flatten 返回一个新的数组, 该数组为拉直后的数组\n",
    "fla = np.array([np.arange(3),np.arange(3)]).flatten()\n",
    "\n",
    "# reshape: ndarray 可以通过 reshape() 或元组重定义数组的形状\n",
    "shape1 = np.array([np.arange(3),np.arange(3)]).reshape((1,6))\n",
    "shape2 = np.array([np.arange(3),np.arange(3)])\n",
    "shape2.shape = (1,6)\n",
    "\n",
    "# transpose-转置: 行列转换\n",
    "trans = np.array([np.arange(3),np.arange(3)]).transpose()\n",
    "\n",
    "# resize: resize 改变该数组. reshape 是返回一个新的数组, 原数组不变.\n",
    "resize = np.array([np.arange(3),np.arange(3)])\n",
    "resize.resize((1,6))\n",
    "\n",
    "print(resize)"
   ]
  },
  {
   "cell_type": "markdown",
   "metadata": {},
   "source": [
    "## 待处理\n",
    "- ndarray 数组上的算术运算符会应用到 元素 级别. ndarray 相乘也不是矩阵乘法, 而是对应元素相乘. 矩阵乘法使用 `@` 或 `dot()` 实现.\n",
    "\n",
    "\n",
    "ndarray 每次扩建都是新建数组然后删除原数组(即扩建需要重新申请内存)"
   ]
  }
 ],
 "metadata": {
  "kernelspec": {
   "display_name": "Python 3",
   "language": "python",
   "name": "python3"
  },
  "language_info": {
   "codemirror_mode": {
    "name": "ipython",
    "version": 3
   },
   "file_extension": ".py",
   "mimetype": "text/x-python",
   "name": "python",
   "nbconvert_exporter": "python",
   "pygments_lexer": "ipython3",
   "version": "3.8.1"
  }
 },
 "nbformat": 4,
 "nbformat_minor": 4
}
