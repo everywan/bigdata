{
 "cells": [
  {
   "cell_type": "markdown",
   "metadata": {},
   "source": [
    "# ipython\n",
    "使用 Ipython-Shell 替代 Python 默认 Shell, 功能更强大, 专为科学计算设计.\n",
    "\n",
    "启动指令\n",
    "1. `ipython -pylab` pylab 会自动导入 Scipy/Numpy/matplotlab 库.\n",
    "\n",
    "---\n",
    "魔法函数\n",
    "\n",
    "ipython 中, 有很多魔法命令以 `%` 开头, 多用于执行一些 ipython 全局命令\n",
    "\n",
    "或者以 `!` 开头, 执行系统shell命令\n",
    "\n",
    "常用:\n",
    "1. help 使用 `help()` 函数查看函数的注释, 源码. 可以使用如下简化方式\n",
    "    - 函数名后加 `?` 显示注释\n",
    "    - 函数名后加 `??` 显示函数的注释和源码\n",
    "2. `%timeit func()` 测算函数的运行时间\n",
    "    - jupyter 中, 单元格前加 `%%timeit` 会测算整个单元格的运行时间\n",
    "3. `%run` 执行外部python文件\n",
    "3. `%logstart %logoff` 开始/结束 记录日志. 可以通过日志恢复之前的记录.\n",
    "\n",
    "其他\n",
    "1. `%matplotlib inline`: 将matplotlib设置为交互方式工作\n",
    "2. `%config InlineBackend.figure_format = 'retina'`: 设置 matplotlib 以呈现高分辨率图像"
   ]
  },
  {
   "cell_type": "code",
   "execution_count": 5,
   "metadata": {},
   "outputs": [
    {
     "name": "stdout",
     "output_type": "stream",
     "text": [
      "Help on _Helper in module _sitebuiltins object:\n",
      "\n",
      "class _Helper(builtins.object)\n",
      " |  Define the builtin 'help'.\n",
      " |  \n",
      " |  This is a wrapper around pydoc.help that provides a helpful message\n",
      " |  when 'help' is typed at the Python interactive prompt.\n",
      " |  \n",
      " |  Calling help() at the Python prompt starts an interactive help session.\n",
      " |  Calling help(thing) prints help for the python object 'thing'.\n",
      " |  \n",
      " |  Methods defined here:\n",
      " |  \n",
      " |  __call__(self, *args, **kwds)\n",
      " |      Call self as a function.\n",
      " |  \n",
      " |  __repr__(self)\n",
      " |      Return repr(self).\n",
      " |  \n",
      " |  ----------------------------------------------------------------------\n",
      " |  Data descriptors defined here:\n",
      " |  \n",
      " |  __dict__\n",
      " |      dictionary for instance variables (if defined)\n",
      " |  \n",
      " |  __weakref__\n",
      " |      list of weak references to the object (if defined)\n",
      "\n"
     ]
    }
   ],
   "source": [
    "help(help)"
   ]
  },
  {
   "cell_type": "code",
   "execution_count": 1,
   "metadata": {},
   "outputs": [
    {
     "data": {
      "text/plain": [
       "\u001b[0;31mSignature:\u001b[0m \u001b[0mtest\u001b[0m\u001b[0;34m(\u001b[0m\u001b[0;34m)\u001b[0m\u001b[0;34m\u001b[0m\u001b[0;34m\u001b[0m\u001b[0m\n",
       "\u001b[0;31mDocstring:\u001b[0m this is test\n",
       "\u001b[0;31mFile:\u001b[0m      ~/go/src/github.com/everywan/bigdata/tools/<ipython-input-1-66aa233d660b>\n",
       "\u001b[0;31mType:\u001b[0m      function\n"
      ]
     },
     "metadata": {},
     "output_type": "display_data"
    }
   ],
   "source": [
    "def test():\n",
    "    'this is test'\n",
    "    print(\"test\")\n",
    "\n",
    "test?"
   ]
  },
  {
   "cell_type": "code",
   "execution_count": null,
   "metadata": {},
   "outputs": [],
   "source": [
    "def test():\n",
    "    'this is test'\n",
    "    print(\"test\")\n",
    "    \n",
    "test??"
   ]
  }
 ],
 "metadata": {
  "kernelspec": {
   "display_name": "Python 3",
   "language": "python",
   "name": "python3"
  },
  "language_info": {
   "codemirror_mode": {
    "name": "ipython",
    "version": 3
   },
   "file_extension": ".py",
   "mimetype": "text/x-python",
   "name": "python",
   "nbconvert_exporter": "python",
   "pygments_lexer": "ipython3",
   "version": "3.8.1"
  }
 },
 "nbformat": 4,
 "nbformat_minor": 4
}
