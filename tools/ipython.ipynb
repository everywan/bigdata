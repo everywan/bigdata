{
 "cells": [
  {
   "cell_type": "markdown",
   "metadata": {},
   "source": [
    "# ipython\n",
    "- `%timeit func()`: 测算函数的运行时间\n",
    "  - 单元格前加 `%%timeit`: 测算整个单元格的运行时间\n",
    "- `%matplotlib inline`: 将matplotlib设置为交互方式工作\n",
    "- `%config InlineBackend.figure_format = 'retina'`: 设置 matplotlib 以呈现高分辨率图像\n",
    "- 函数名后加 `?` 显示注释, 加 `??` 显示函数的注释和源码"
   ]
  },
  {
   "cell_type": "code",
   "execution_count": null,
   "metadata": {},
   "outputs": [],
   "source": [
    "def test():\n",
    "    'this is test'\n",
    "    print(\"test\")\n",
    "\n",
    "test?"
   ]
  },
  {
   "cell_type": "code",
   "execution_count": null,
   "metadata": {},
   "outputs": [],
   "source": [
    "def test():\n",
    "    'this is test'\n",
    "    print(\"test\")\n",
    "    \n",
    "test??"
   ]
  }
 ],
 "metadata": {
  "kernelspec": {
   "display_name": "Python 3",
   "language": "python",
   "name": "python3"
  },
  "language_info": {
   "codemirror_mode": {
    "name": "ipython",
    "version": 3
   },
   "file_extension": ".py",
   "mimetype": "text/x-python",
   "name": "python",
   "nbconvert_exporter": "python",
   "pygments_lexer": "ipython3",
   "version": "3.8.0"
  }
 },
 "nbformat": 4,
 "nbformat_minor": 4
}
