{
 "cells": [
  {
   "cell_type": "markdown",
   "metadata": {},
   "source": [
    "# 命令行参数\n"
   ]
  },
  {
   "cell_type": "markdown",
   "metadata": {},
   "source": [
    "## getopt模块\n",
    "\n",
    "函数签名: `getopt.getopt(args, options[, long_options])`\n",
    "- `opts, args = getopt.getopt( [命令行参数列表], \"短选项\", [长选项列表])`\n",
    "\n",
    "opts 是一个存有所有选项及其输入值的元组. 当输入确定后, 这个值不能被修改了.\n",
    "\n",
    "args 是去除有用的输入以后剩余的部分.\n",
    "\n",
    "短选项名后的冒号(:)表示该选项必须有附加的参数.\n",
    "长选项名后的等号(=)表示该选项必须有附加的参数.\n",
    "\n",
    "当选项名后没有 `:` 或 `=` 符号时, 表示该选项是个标记位, 没有参数. 如 `v`, `--debug` 选项."
   ]
  },
  {
   "cell_type": "code",
   "execution_count": null,
   "metadata": {},
   "outputs": [],
   "source": [
    "# getopt 示例\n",
    "# python test.py -v --debug -s short_info --long=long_info\n",
    "\n",
    "import sys, getopt\n",
    "\n",
    "if __name__==\"__main__\":\n",
    "    arg = getopt.getopt(sys.argv[1:],'s:v',['debug', 'long='])\n",
    "    for k,v in arg[0]:\n",
    "        if k == '-s':\n",
    "            print(\"-s, short信息. s = %s\"%(v))\n",
    "        if k == '--debug':\n",
    "            print('--debug, 输出详细信息, 此时选项无值')\n",
    "        if k == '-v':\n",
    "            print('-v, 输出详细信息, 此时选项无值')\n",
    "        if k == '--long':\n",
    "            print('--long, long 信息. long = %s'%(v))"
   ]
  }
 ],
 "metadata": {
  "kernelspec": {
   "display_name": "Python 3",
   "language": "python",
   "name": "python3"
  },
  "language_info": {
   "codemirror_mode": {
    "name": "ipython",
    "version": 3
   },
   "file_extension": ".py",
   "mimetype": "text/x-python",
   "name": "python",
   "nbconvert_exporter": "python",
   "pygments_lexer": "ipython3",
   "version": "3.8.1"
  }
 },
 "nbformat": 4,
 "nbformat_minor": 4
}
