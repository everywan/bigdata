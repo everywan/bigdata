{
 "cells": [
  {
   "cell_type": "code",
   "execution_count": null,
   "metadata": {},
   "outputs": [],
   "source": [
    "import numpy as np\n",
    "import pandas as pd"
   ]
  },
  {
   "cell_type": "code",
   "execution_count": null,
   "metadata": {},
   "outputs": [],
   "source": [
    "# 一列拆多列: 通过 apply 函数分割指定列, 将其拆成多列. 并追加到原df中\n",
    "def parseType(fields):\n",
    "    # fields[1] 也可\n",
    "    typ = fields.type\n",
    "    arr = typ.split('.', 3)\n",
    "    if len(arr)<3:\n",
    "        return 0,0\n",
    "    return arr[1],arr[2]\n",
    "\n",
    "# zip(*) 用于将对象打包为 tuple\n",
    "df['chanel'],df['way'] = zip(*df.apply(parseType, axis=1))\n",
    "print(df)"
   ]
  },
  {
   "cell_type": "code",
   "execution_count": null,
   "metadata": {},
   "outputs": [],
   "source": [
    "# 导出前处理\n",
    "# 删除无用列\n",
    "df = df.drop(columns=['trade_type'])\n",
    "# 重命名\n",
    "output_columns = {\n",
    "    'dt':\"日期\",\n",
    "    'chanel':'渠道',\n",
    "    'way':'方式'\n",
    "}\n",
    "df = df.rename(columns=output_columns)\n",
    "# 排序\n",
    "df = df.sort_values(by=['日期','渠道','方式'])\n",
    "# 交换导出顺序\n",
    "df = df[['日期','渠道','方式', '笔数']]\n",
    "df.head()"
   ]
  }
 ],
 "metadata": {
  "kernelspec": {
   "display_name": "Python 3",
   "language": "python",
   "name": "python3"
  },
  "language_info": {
   "codemirror_mode": {
    "name": "ipython",
    "version": 3
   },
   "file_extension": ".py",
   "mimetype": "text/x-python",
   "name": "python",
   "nbconvert_exporter": "python",
   "pygments_lexer": "ipython3",
   "version": "3.8.3"
  }
 },
 "nbformat": 4,
 "nbformat_minor": 4
}
