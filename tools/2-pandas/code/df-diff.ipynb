{
 "cells": [
  {
   "cell_type": "code",
   "execution_count": null,
   "metadata": {},
   "outputs": [],
   "source": [
    "#/usr/bin/env python3\n",
    "\n",
    "import pandas as pd\n",
    "\n",
    "def dfDiff():\n",
    "    '''\n",
    "        计算两个df的差集\n",
    "    '''\n",
    "    tt = pd.DataFrame ({'a' : [1,2,3],'b' : [1,2,3],'c' : [1,2,3]})\n",
    "    tt2 = pd.DataFrame ({'a' : [1,2,4],'b' : [1,2,4],'c' : [1,2,3]})\n",
    "    \n",
    "    def ttf(x):\n",
    "        if tt2[ tt2.a==x.a ].size == 0 :\n",
    "            print(x.a)\n",
    "    \n",
    "    tt3 = tt.apply(ttf,axis=1)\n",
    "    pass\n",
    "\n",
    "if __name__ == \"__main__\":\n",
    "    df = pd.read_csv(\"./clearing_bills.csv\")\n",
    "    df = df.iloc[:,[0,2,3,4,8,9,10]]\n",
    "    df.loc[0]   "
   ]
  }
 ],
 "metadata": {
  "kernelspec": {
   "display_name": "Python 3",
   "language": "python",
   "name": "python3"
  },
  "language_info": {
   "codemirror_mode": {
    "name": "ipython",
    "version": 3
   },
   "file_extension": ".py",
   "mimetype": "text/x-python",
   "name": "python",
   "nbconvert_exporter": "python",
   "pygments_lexer": "ipython3",
   "version": "3.8.0"
  }
 },
 "nbformat": 4,
 "nbformat_minor": 4
}
