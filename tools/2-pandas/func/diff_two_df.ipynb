{
 "cells": [
  {
   "cell_type": "markdown",
   "metadata": {},
   "source": [
    "# 求df的差集\n",
    "给定两个 dataframe, 称之为 df1 df2, 求 df1 df2 中, 当 key 相同时, 其他列差值小于d的所有行.\n",
    "\n",
    "推荐的方法是: 先merge数据集, 然后通过 filter 或者 sql 等任意方式比较行内差值即可.\n",
    "- sql示例: `select * from t1 where a_c1 != a_c2 and b_c1 != b_c2`\n",
    "- 对于 pandas, `df[df.a_c1!=df.a_c2]` 即可filter数据, 或者使用自由度更高的 apply 函数.\n",
    "\n",
    "完整示例参考 [diff_two_csv.py](/tools/2-pandas/code/diff_two_csv.py)\n",
    "\n",
    "## 其他方法\n",
    "有一些其他思路也可以解决问题, 写到这里供参考. 但是我觉得不如推荐的方法\n",
    "\n",
    "---\n",
    "去重, 求交补集\n",
    "\n",
    "当只需要去掉重复值时, 可以考虑使用交补集的方式. 在pandas中直接使用 drop_duplicates 即可\n",
    "- 示例 `df.drop_duplicates(['date', 'name', 'score'], keep=False, inplace=True)`\n",
    "\n",
    "也是一个方法, 但是经常在去重后, 还需要 merge dataframe, 以方便查看.\n",
    "\n",
    "---\n",
    "sql思维的方法\n",
    "\n",
    "使用 concat 合并数据集, 这时类似于在数据库表中的情况(但这个不如merge优雅, 效率高), 然后使用sql找出表中相同key不同value的数据.\n",
    "\n",
    "方式如下. 首先, 使用 concat 合并数据集, 注册为表, 然后\n",
    "1. 自己 join 自己, join 条件添加限制直接的出结; 或不加限制, 变成merge的情况.\n",
    "2. 使用子查询\n",
    "3. groupby 后, 在 having中 判断 最大值!=最小值."
   ]
  },
  {
   "cell_type": "code",
   "execution_count": 12,
   "metadata": {},
   "outputs": [],
   "source": [
    "import pandas as pd\n",
    "\n",
    "def output(df):\n",
    "    print(df.head())"
   ]
  },
  {
   "cell_type": "code",
   "execution_count": 10,
   "metadata": {},
   "outputs": [],
   "source": [
    "def diff_two_df(df1, df2):\n",
    "    'merge 数据集, 然后 filter'\n",
    "    df = df1.merge(df2, on=['date', 'name'], how='outer', suffixes=('_d1', '_d2'))\n",
    "    df = df[df.score_d1!=df.score_d2]\n",
    "    return df"
   ]
  },
  {
   "cell_type": "code",
   "execution_count": 16,
   "metadata": {},
   "outputs": [],
   "source": [
    "# 推荐方法, 使用 apply\n",
    "def diff_two_df(df1, df2):\n",
    "    'merge 数据集, 然后使用 apply filter'\n",
    "    df = df1.merge(df2, on=['date', 'name'], how='outer', suffixes=('_d1', '_d2'))\n",
    "    def diff(x):\n",
    "        if x.score_d1!=x.score_d2:\n",
    "            return x\n",
    "    \n",
    "    df = df.apply(diff,axis=1).dropna()\n",
    "    return df"
   ]
  },
  {
   "cell_type": "code",
   "execution_count": 20,
   "metadata": {},
   "outputs": [
    {
     "name": "stdout",
     "output_type": "stream",
     "text": [
      "         date name  score_c1  score_c2\n",
      "0  2020-02-03    g         3         6\n",
      "1  2020-02-03    m         6         2\n",
      "2  2020-02-02    g         5         7\n",
      "3  2020-02-02    z         6         5\n"
     ]
    }
   ],
   "source": [
    "df1 = pd.DataFrame ({'date' : ['2020-02-03','2020-02-03','2020-02-03','2020-02-02','2020-02-02','2020-02-02'], \\\n",
    "                     'name' : ['g','m','z','g','m','z'], \\\n",
    "                     'score' : [3,6,5,5,3,6]})\n",
    "df2 = pd.DataFrame ({'date' : ['2020-02-03','2020-02-03','2020-02-03','2020-02-02','2020-02-02','2020-02-02'], \\\n",
    "                     'name' : ['g','m','z','g','m','z'], \\\n",
    "                     'score' : [6,2,5,7,3,5]})\n",
    "df = diff_two_df(df1, df2)\n",
    "output(df)"
   ]
  },
  {
   "cell_type": "code",
   "execution_count": 18,
   "metadata": {},
   "outputs": [],
   "source": [
    "# 求交补集\n",
    "# 正是因为有需要合并查看这个需求, 所以这个方法是个败笔\n",
    "def combine_df(df):\n",
    "    '在去重后, 还需要 merge dataframe, 以方便查看相同key的值'\n",
    "    df1 = df[df.source==1]\n",
    "    df2 = df[df.source==2]\n",
    "    df1 = df1.drop(columns=['source'])\n",
    "    df2 = df2.drop(columns=['source'])\n",
    "    df = df1.merge(df2, on=['date', 'name'], how='outer', suffixes=('_c1', '_c2'))\n",
    "    return df\n",
    "\n",
    "def diff_two_df(df1, df2):\n",
    "    '求交补集'\n",
    "    df1['source'] = 1\n",
    "    df2['source'] = 2\n",
    "    df = pd.concat([df1, df2])\n",
    "    df.drop_duplicates(['date', 'name', 'score'], keep=False, inplace=True)\n",
    "    return combine_df(df)  "
   ]
  },
  {
   "cell_type": "code",
   "execution_count": null,
   "metadata": {},
   "outputs": [],
   "source": [
    "# sql思维的方法\n",
    "# 暂不讨论"
   ]
  }
 ],
 "metadata": {
  "kernelspec": {
   "display_name": "Python 3",
   "language": "python",
   "name": "python3"
  },
  "language_info": {
   "codemirror_mode": {
    "name": "ipython",
    "version": 3
   },
   "file_extension": ".py",
   "mimetype": "text/x-python",
   "name": "python",
   "nbconvert_exporter": "python",
   "pygments_lexer": "ipython3",
   "version": "3.8.1"
  }
 },
 "nbformat": 4,
 "nbformat_minor": 4
}
