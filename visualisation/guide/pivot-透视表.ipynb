{
 "cells": [
  {
   "cell_type": "markdown",
   "metadata": {},
   "source": [
    "# 透视表\n",
    "所谓透视, 是绘画上的一个术语, 是指在二维平面上表现三维的空间感和立体感.\n",
    "由此可知, 透视表是在二维表上表现三维或更多维数据的表.\n",
    "\n",
    "定义上, 数据表为 用来汇总其它表的数据的表.\n",
    "首先把源表分组(grouping), 然后对各组内数据做汇总操作如排序/平均/累加/计数或字符串连接等.\n",
    "\n",
    "对于程序员, 更容易理解的是透视表是: 对于数据表df, 按照多列分组聚合的方式处理数据, 然后以矩阵的方式展示."
   ]
  },
  {
   "cell_type": "code",
   "execution_count": 3,
   "metadata": {},
   "outputs": [
    {
     "name": "stdout",
     "output_type": "stream",
     "text": [
      "C        large  small\n",
      "A   B                \n",
      "bar one      4      5\n",
      "    two      7      6\n",
      "foo one      4      1\n",
      "    two      0      6\n"
     ]
    }
   ],
   "source": [
    "import numpy as np\n",
    "import pandas as pd\n",
    "\n",
    "df = pd.DataFrame({\"A\": [\"foo\", \"foo\", \"foo\", \"foo\", \"foo\", \"bar\", \"bar\", \"bar\", \"bar\"],\n",
    "  \"B\": [\"one\", \"one\", \"one\", \"two\", \"two\", \"one\", \"one\", \"two\", \"two\"],\n",
    "  \"C\": [\"small\", \"large\", \"large\", \"small\", \"small\", \"large\", \"small\", \"small\", \"large\"],\n",
    "  \"D\": [1, 2, 2, 3, 3, 4, 5, 6, 7],\n",
    "  \"E\": [2, 4, 5, 5, 6, 6, 8, 9, 9]})\n",
    "\n",
    "# 对 A/B/C 三列分组, 对D列求sum, 得出的透视表如下\n",
    "table = pd.pivot_table(df, values='D', index=['A', 'B'], columns=['C'], aggfunc=np.sum, fill_value=0)\n",
    "\n",
    "print(table)\n",
    "# 可以看到, 透视表数据是先按照 列A分组, 然后按照B/C分组, 对D求和. 类似与 `A,B,C,sum(D) ... group by A,B,C`"
   ]
  }
 ],
 "metadata": {
  "kernelspec": {
   "display_name": "Python 3",
   "language": "python",
   "name": "python3"
  },
  "language_info": {
   "codemirror_mode": {
    "name": "ipython",
    "version": 3
   },
   "file_extension": ".py",
   "mimetype": "text/x-python",
   "name": "python",
   "nbconvert_exporter": "python",
   "pygments_lexer": "ipython3",
   "version": "3.8.0"
  }
 },
 "nbformat": 4,
 "nbformat_minor": 4
}
