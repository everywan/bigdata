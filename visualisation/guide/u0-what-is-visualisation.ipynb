{
 "cells": [
  {
   "cell_type": "markdown",
   "metadata": {},
   "source": [
    "# 可视化图表\n",
    "各种图标的介绍\n",
    "\n",
    "python 中, 绘图常用三个库: matplotlib/seaborn/pyecharts.\n",
    "\n",
    "图表样式很多, 想要全面的了解很困难. 比了解全面更重要的是, 知道你想表达什么, 然后选择/创造一个合适的可视化表现方式.\n",
    "各种库只是给你提供了工具, 让可视化更简单.\n",
    "1. 如何展示: 想清楚要展示什么, 要表达什么信息\n",
    "2. 如何绘制: 对于二维图, 就是如何选择 xy, 如何确定 xy.\n",
    "\n",
    "私以为, 学习可视化第一步是 了解常用的可视化思想和方法, 然后多使用. 在此基础上, 在慢慢的学习更多的可视化方法, 而不能执着与可视化之'术'."
   ]
  },
  {
   "cell_type": "markdown",
   "metadata": {},
   "source": [
    "## 学习建议\n",
    "如下是我在学习过程中, 认为提前了解可以减少学习误区的知识点.\n",
    "1. 查看文档与绘图的方式\n",
    "    1. `df.plot?` 查看 plot 文档\n",
    "    2. `df.plot.kde?` 查看 area 图的文档\n",
    "    3. `sns.kdeplot?` 查看 sns 的 kde 图文档\n",
    "2. 绘图时, 大多数都默认为 按列分类的, 所以也是取一列数据作为一组, 而非一行(我刚开始时老犯这个迷糊).\n",
    "    - 以密度图举例,每条密度线都是取一列的值, 然后将每个数出现的频率作为y绘图. 如有多列, 则如发炮制, 绘制多列\n",
    "    - 另外说一句, `np.random.randn(1,2)` 是 1行2列, 不要犯迷糊. dataframe 也是, 第一个轴永远是行数, 不要总是受坐标轴影响\n",
    "3. 除了上述 按类分类的, 其他最多的是 给定 x/y 值, 直接渲染图."
   ]
  },
  {
   "cell_type": "markdown",
   "metadata": {},
   "source": [
    "## 表格术语\n",
    "\n",
    "|单词       |  翻译         |\n",
    "|:----------|:-------------|\n",
    "|line       | 折线图        |\n",
    "|bar        | 条形图, 柱状图 |\n",
    "|barh       | 水平绘制条形图  |\n",
    "|hist       | 直方图     |\n",
    "|box        | 箱图      |\n",
    "|kde        | 核密度估计(Kernel Density Estimates) |\n",
    "|density    | 密度图    |\n",
    "|area       | 面积图    |\n",
    "|pie        | 饼图      |\n",
    "|scatter    | 散点图    |\n",
    "|hexbin     | 位图      |\n",
    "|Pairwise   | 矩阵图    |\n",
    "|legend     | 图例, 传奇, 图表中指轴/数据的注释 |\n",
    "\n",
    "术语简介\n",
    "1. bar/hist 区别\n",
    "  - 直方图多用于在 连续间隔/特定时间段内数据分布情况 的图表. 所以, 直方图的 x 轴多是连续的.\n",
    "  - 条形图多用于数据在不同的分类下, 值大小的对比. 所以, 条形图(又称柱状图) 的 x 轴多是不连续的.\n",
    "2. kde: 核密度估计图, 即采用平滑的峰值函数来拟合观察到的数据点, 从而对真实的概率分布曲线进行模拟. 核密度估计 是对散点图的一个扩展, 将散点图的离散分布拟合到连续平滑分布.\n",
    "3. hexbin 多用于 基于地理空间 数据的分析, 一般以 六边形表示地图区域, 不同区域内以合适的方式渲染数据.\n",
    "4. 矩阵图: 即表格."
   ]
  }
 ],
 "metadata": {
  "kernelspec": {
   "display_name": "Python 3",
   "language": "python",
   "name": "python3"
  },
  "language_info": {
   "codemirror_mode": {
    "name": "ipython",
    "version": 3
   },
   "file_extension": ".py",
   "mimetype": "text/x-python",
   "name": "python",
   "nbconvert_exporter": "python",
   "pygments_lexer": "ipython3",
   "version": "3.8.0"
  }
 },
 "nbformat": 4,
 "nbformat_minor": 4
}
