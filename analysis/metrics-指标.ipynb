{
 "cells": [
  {
   "cell_type": "markdown",
   "metadata": {},
   "source": [
    "# 指标\n",
    "\n",
    "## 调和平均数\n",
    "调和平均数, Harmonic mean, 又称倒数平均数, 是总体各统计变量倒数的算术平均数的倒数. (求水流速度/并联电阻总电阻皆是该方法.)\n",
    "\n",
    "$\\frac{ n*x^1*x^2*...*x^n }{ x^1+x^2+...+x^n }$\n",
    "\n",
    "## 标准差\n",
    "标准差, Standard Deviation, 简称 SD, 即方差的算术平方根. \n",
    "标准差能反映一个数据集的离散程度.\n",
    "\n",
    "$std = \\sqrt{ \\frac{1}{N} \\sum_{i=1}^N ( x^i - \\mu )^2 }$\n",
    "\n",
    "u 为平均值\n",
    "\n",
    "## 变异系数\n",
    "变异系数, coefficient of variation, 又称离散系数, 变差系数.\n",
    "\n",
    "$cv = \\frac{S}{\\mu} * 100\\%$\n",
    "\n",
    "当两个数据集度量单位不同时, 平均值会有变化(如分别用分/元统计金额), 从而导致标准差不同. \n",
    "变异系数就是用于 度量单位或平均值不同时 比较数据集的离散程度.\n",
    "\n",
    "变异系数是无量刚量(即与单位无关)"
   ]
  }
 ],
 "metadata": {
  "kernelspec": {
   "display_name": "Python 3",
   "language": "python",
   "name": "python3"
  },
  "language_info": {
   "codemirror_mode": {
    "name": "ipython",
    "version": 3
   },
   "file_extension": ".py",
   "mimetype": "text/x-python",
   "name": "python",
   "nbconvert_exporter": "python",
   "pygments_lexer": "ipython3",
   "version": "3.8.0"
  }
 },
 "nbformat": 4,
 "nbformat_minor": 4
}
