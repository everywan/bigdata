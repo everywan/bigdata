{
 "cells": [
  {
   "cell_type": "markdown",
   "metadata": {},
   "source": [
    "# 特征缩放\n",
    "特征缩放用于统一数据集中各特征的值的范围, 如多个特征使用的不同的量纲, 数据缩放后, 数据集变为无量纲值.\n",
    "- 量纲, 即单位.\n",
    "\n",
    "---\n",
    "特征缩放的意义\n",
    "\n",
    "对数据集进行缩放后, 多个特征将具有相近的相似度, 有助于提升 梯度下降/线性回归 等算法的收敛速度.\n",
    "这也称为 数据标准化.\n",
    "- 问: 特征缩放如何加快收敛速度的.\n",
    "- 答: (个人猜测, 需要证实) 当某个特征变化范围明显大于其他值时, 对于线性回归算法, 进行收敛计算时, 该系数的变化过于影响整体结果,\n",
    "    需要注意的是, 需要对训练集,测试集进行相同的数据处理.\n",
    "\n",
    "具体可参考 [为什么要对特征进行缩放](https://zhuanlan.zhihu.com/p/25234554), 源自\n",
    "[梯度下降_Andrew Ng的机器学习课程](https://www.coursera.org/lecture/machine-learning/gradient-descent-in-practice-i-feature-scaling-xx3Da)\n",
    "\n",
    "---\n",
    "特征缩放的使用\n",
    "\n",
    "数据标准化常用的方法有 标准化(Z标准化), 归一化等. 大多数标准化方法不是将数据都是尽量在缩放特征值范围的同时, 尽量保证数据分布的一致性.\n",
    "但是, 数据中 极值/异常值 的情况会影响特征缩放的效果, 使标准化后的数据分布与原数据差异较大, 所以建议在数据标准化前优先对数据进行预处理.\n",
    "\n",
    "标准化算法的公式参考下文.\n",
    "不同标准化对数据的影响参考下文 \n",
    "[不同缩放器对数据的影响 sklearn](https://scikit-learn.org/stable/auto_examples/preprocessing/plot_all_scaling.html#sphx-glr-auto-examples-preprocessing-plot-all-scaling-py)"
   ]
  },
  {
   "cell_type": "markdown",
   "metadata": {},
   "source": [
    "## 数据标准化\n",
    "数据的标准化(normalization)是将数据按比例缩放, 使之落入一个小的特定区间. 去除数据的单位限制, 将其转化为无量纲的纯数值, 便于不同单位或量级的指标能够进行比较和加权.\n",
    "\n",
    "标准化和最大最小值归一化是常用的方法.\n",
    "\n",
    "具体API参考 [sklearn.preprocessing API](https://scikit-learn.org/stable/modules/classes.html#module-sklearn.preprocessing)"
   ]
  },
  {
   "cell_type": "markdown",
   "metadata": {},
   "source": [
    "### 标准化\n",
    "标准化, 又称 Z标准化, 经过处理的数据符合标准正态分布. 即 每个特征(每一列) 均值为0, 标准差为1.\n",
    "\n",
    "假设 u 为平均值, SD 为标准差\n",
    "\n",
    "$ Z = \\frac{X-\\mu}{SD} $"
   ]
  },
  {
   "cell_type": "code",
   "execution_count": 6,
   "metadata": {},
   "outputs": [],
   "source": [
    "from sklearn import preprocessing\n",
    "import numpy as np\n",
    "X_train = np.array([[ 1., -1.,  2.],\n",
    "                    [ 2.,  0.,  0.],\n",
    "                    [ 0.,  1., -1.]])"
   ]
  },
  {
   "cell_type": "code",
   "execution_count": 5,
   "metadata": {},
   "outputs": [
    {
     "name": "stdout",
     "output_type": "stream",
     "text": [
      "[[ 0.         -1.22474487  1.33630621]\n",
      " [ 1.22474487  0.         -0.26726124]\n",
      " [-1.22474487  1.22474487 -1.06904497]]\n",
      "mean:  [0. 0. 0.]\n",
      "std:  [1. 1. 1.]\n"
     ]
    }
   ],
   "source": [
    "# 借助 scikit-learn 库实现Z标准化\n",
    "X_scaled = preprocessing.scale(X_train)\n",
    "print(X_scaled)\n",
    "mean = X_scaled.mean(axis=0)\n",
    "print('mean: ', mean)\n",
    "std = X_scaled.std(axis=0)\n",
    "print('std: ', std)"
   ]
  },
  {
   "cell_type": "markdown",
   "metadata": {},
   "source": [
    "`preprocessing.scale` 用于只需要缩放一次的数据集. 通常情况下我们需要同时缩放 训练集和测试集, \n",
    "此时可以使用`preprocessing.StandardScaler`\n",
    "\n",
    "用法如下\n",
    "1. 使用 `StandardScaler()` 创建 缩放器(scaler)\n",
    "2. 使用 `scaler.fit(data)` 获取数据集的方差和平均值等信息, 存储备用\n",
    "3. 使用 `scaler.transform(data)` 执行缩放.\n",
    "\n",
    "具体参考 [StandardScaler API](https://scikit-learn.org/stable/modules/generated/sklearn.preprocessing.StandardScaler.html_"
   ]
  },
  {
   "cell_type": "code",
   "execution_count": 14,
   "metadata": {},
   "outputs": [
    {
     "name": "stdout",
     "output_type": "stream",
     "text": [
      "scaler:  StandardScaler(copy=True, with_mean=True, with_std=True)\n",
      "mean:  [1.         0.         0.33333333]\n",
      "variance:  [0.66666667 0.66666667 1.55555556]\n"
     ]
    },
    {
     "data": {
      "text/plain": [
       "array([[ 0.        , -1.22474487,  1.33630621],\n",
       "       [ 1.22474487,  0.        , -0.26726124],\n",
       "       [-1.22474487,  1.22474487, -1.06904497]])"
      ]
     },
     "execution_count": 14,
     "metadata": {},
     "output_type": "execute_result"
    }
   ],
   "source": [
    "scaler = preprocessing.StandardScaler().fit(X_train)\n",
    "print('scaler: ', scaler)\n",
    "print('mean: ', scaler.mean_)\n",
    "print('variance: ', scaler.var_)\n",
    "scaler.transform(X_train)"
   ]
  },
  {
   "cell_type": "markdown",
   "metadata": {},
   "source": [
    "### 归一化\n",
    "归一化也可以将有量纲经过转换变为无量纲.\n",
    "\n",
    "一般而言, 归一化通过对数据的缩放和位移实现.\n",
    "\n",
    "常见的归一化方法有\n",
    "1. 最大最小归一化, 将数据缩放到 `[0,1]` 或者 `[-1,1]`.\n",
    "2. 均值归一化.\n",
    "\n",
    "---\n",
    "最大最小归一化\n",
    "\n",
    "$ x' = \\frac{x-min(x)} {max(x)-min(x)} $\n",
    "\n",
    "缩放到任意 `[a,b]` 区间\n",
    "\n",
    "$ x' = a + \\frac{(x-min(x)) * (b-a)} {max(x)-min(x)} $\n",
    "\n",
    "---\n",
    "均值归一化\n",
    "\n",
    "$ x' = \\frac{x-mean(x)}{max(x)-min(x)}  $\n",
    "\n",
    "标准化(Z标准化)形式与平均归一化类似, 将分母换位标准差即是 标准化."
   ]
  },
  {
   "cell_type": "code",
   "execution_count": 16,
   "metadata": {},
   "outputs": [
    {
     "data": {
      "text/plain": [
       "array([[0.5       , 0.        , 1.        ],\n",
       "       [1.        , 0.5       , 0.33333333],\n",
       "       [0.        , 1.        , 0.        ]])"
      ]
     },
     "execution_count": 16,
     "metadata": {},
     "output_type": "execute_result"
    }
   ],
   "source": [
    "# preprocessing.MinMaxScaler\n",
    "min_max_scaler = preprocessing.MinMaxScaler()\n",
    "# fit_transform 收集数据信息, 然后执行缩放. \n",
    "X_train_minmax = min_max_scaler.fit_transform(X_train)\n",
    "X_train_minmax"
   ]
  },
  {
   "cell_type": "markdown",
   "metadata": {},
   "source": [
    "### 正则化\n",
    "正则化用于缩放特征向量的分量, 使整个向量长度为1.\n",
    "\n",
    "暂时不学习这个."
   ]
  },
  {
   "cell_type": "markdown",
   "metadata": {},
   "source": [
    "## 数据中心化\n",
    "数据中心化, 又称零均值化, 数据集经处理后, 各特征的平均值为0, 对标准差无要求."
   ]
  },
  {
   "cell_type": "markdown",
   "metadata": {},
   "source": [
    "## 参考\n",
    "- [数据标准化、归一化、中心化处理](https://zhuanlan.zhihu.com/p/33727799)\n",
    "- [为什么要对特征进行缩放](https://zhuanlan.zhihu.com/p/25234554)"
   ]
  }
 ],
 "metadata": {
  "kernelspec": {
   "display_name": "Python 3",
   "language": "python",
   "name": "python3"
  },
  "language_info": {
   "codemirror_mode": {
    "name": "ipython",
    "version": 3
   },
   "file_extension": ".py",
   "mimetype": "text/x-python",
   "name": "python",
   "nbconvert_exporter": "python",
   "pygments_lexer": "ipython3",
   "version": "3.8.0"
  }
 },
 "nbformat": 4,
 "nbformat_minor": 4
}
